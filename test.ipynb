{
 "cells": [
  {
   "cell_type": "code",
   "execution_count": 59,
   "metadata": {},
   "outputs": [
    {
     "name": "stderr",
     "output_type": "stream",
     "text": [
      "[nltk_data] Downloading package punkt to\n",
      "[nltk_data]     C:\\Users\\alpha\\AppData\\Roaming\\nltk_data...\n",
      "[nltk_data]   Package punkt is already up-to-date!\n",
      "[nltk_data] Downloading package stopwords to\n",
      "[nltk_data]     C:\\Users\\alpha\\AppData\\Roaming\\nltk_data...\n",
      "[nltk_data]   Package stopwords is already up-to-date!\n"
     ]
    },
    {
     "data": {
      "text/plain": [
       "True"
      ]
     },
     "execution_count": 59,
     "metadata": {},
     "output_type": "execute_result"
    }
   ],
   "source": [
    "import re # relugar expression\n",
    "import nltk # natural language toolkit\n",
    "import string\n",
    "from IPython.core.display import HTML\n",
    "nltk.download('punkt')\n",
    "nltk.download('stopwords')"
   ]
  },
  {
   "cell_type": "code",
   "execution_count": 41,
   "metadata": {},
   "outputs": [],
   "source": [
    "original_text = \"\"\"\"On Athenia, Arcee, Wheelie, and Daniel sadly reflect on the destruction of Cybertron and the departure of Rodimus Prime. By and by, Chromedome arrives to inform them that Fortress's party is about to start, and they join the other Autobots there just as Fortress and Spike announce the joint Autobot-human construction of the solar-energy-gathering satellite, Sol 1. With that, the revelry begins, as Hardhead sings karaoke to music played by Twincast, Wheelie over-energizes on energon wine, and Arcee and Chromedome dance.\n",
    "(thumbnail)\n",
    "\"So why is the new leader all dark?\" \"Did you not read the title card?\"\n",
    "\n",
    "Meanwhile, on Chaar, Soundblaster reports to the Decepticons that a search has turned up no trace of Galvatron, who vanished during the explosion that destroyed Cybertron. Suddenly, the room is clouded with darkness, and a silhouetted figure that seems to be Galvatron appears. Cyclonus and Scourge rush to greet him, but Soundblaster holds them back, having proven with a voice pattern analysis that it is not Galvatron—in truth, the shadowy Decepticon is Scorponok, who tells them that Galvatron is still alive, and has appointed him as leader in his place while he recovers. Unsure about this, Cyclonus and Scourge question Soundblaster in private over whether they can trust Scorponok, but he tells them they have no choice.\n",
    "(thumbnail)\n",
    "Run! It's the Crystalline Entity!\n",
    "\n",
    "Some time later, on Earth, the Headmasters, Trainbots, Daniel and Wheelie are all present for the launch of Sol 1, but predictably, the Decepticons are spying on the whole affair, and Ratbat and Soundblaster report back to Scorponok with news of the impending launch. Tired of constantly being shown up by him, Cyclonus and Scourge head to Earth and recruit the Predacons for an attack on the launch site, so that they can destroy the Sol 1 and improve their standing in Scorponok's eyes. Their attack is anything but subtle, and they are met with resistance in the form of Raiden, who battles Predaking while the Headmasters take on Cyclonus and Scourge. Sol 1 is successfully launched and immediately begins absorbing energy, but this is just what Scorponok desires, as he arranges for the Headmasters and Triple Changers to steal it. With the Autobots unable to mount a counterattack thanks to Sixshot keeping them occupied, the Sol 1 is captured by the Decepticons and spirited away.\n",
    "(thumbnail)\n",
    "This image demands we make a \"Chromedome set us up the bomb\" joke.\n",
    "\n",
    "A little later, Fortress traces Sol 1's signal, and discovers that the Decepticons have moved it into the vicinity of the planet Zarak, a world hidden within a dark nebula. The Autobots track it down, but find that it is defended by the Decepticon Headmasters. As the two sides clash, the energy stored within the satellite is beamed down to planet Zarak, where, within a mysterious facility, a giant robotic body absorbs it. Warning the Autobots that they will destroy Sol 1 telepathically if they try to move it back to Earth, the Decepticons make a retreat, and the Autobot Headmasters realise that they have no other course of action but to destroy the satellite themselves. After doing so, they return to Athenia, where Spike assures them that they did the right thing, and that relations between the Autobots and Earth will remain undamaged.  \"\"\""
   ]
  },
  {
   "cell_type": "code",
   "execution_count": 42,
   "metadata": {},
   "outputs": [
    {
     "data": {
      "text/plain": [
       "'\"On Athenia, Arcee, Wheelie, and Daniel sadly reflect on the destruction of Cybertron and the departure of Rodimus Prime. By and by, Chromedome arrives to inform them that Fortress\\'s party is about to start, and they join the other Autobots there just as Fortress and Spike announce the joint Autobot-human construction of the solar-energy-gathering satellite, Sol 1. With that, the revelry begins, as Hardhead sings karaoke to music played by Twincast, Wheelie over-energizes on energon wine, and Arcee and Chromedome dance.\\n(thumbnail)\\n\"So why is the new leader all dark?\" \"Did you not read the title card?\"\\n\\nMeanwhile, on Chaar, Soundblaster reports to the Decepticons that a search has turned up no trace of Galvatron, who vanished during the explosion that destroyed Cybertron. Suddenly, the room is clouded with darkness, and a silhouetted figure that seems to be Galvatron appears. Cyclonus and Scourge rush to greet him, but Soundblaster holds them back, having proven with a voice pattern analysis that it is not Galvatron—in truth, the shadowy Decepticon is Scorponok, who tells them that Galvatron is still alive, and has appointed him as leader in his place while he recovers. Unsure about this, Cyclonus and Scourge question Soundblaster in private over whether they can trust Scorponok, but he tells them they have no choice.\\n(thumbnail)\\nRun! It\\'s the Crystalline Entity!\\n\\nSome time later, on Earth, the Headmasters, Trainbots, Daniel and Wheelie are all present for the launch of Sol 1, but predictably, the Decepticons are spying on the whole affair, and Ratbat and Soundblaster report back to Scorponok with news of the impending launch. Tired of constantly being shown up by him, Cyclonus and Scourge head to Earth and recruit the Predacons for an attack on the launch site, so that they can destroy the Sol 1 and improve their standing in Scorponok\\'s eyes. Their attack is anything but subtle, and they are met with resistance in the form of Raiden, who battles Predaking while the Headmasters take on Cyclonus and Scourge. Sol 1 is successfully launched and immediately begins absorbing energy, but this is just what Scorponok desires, as he arranges for the Headmasters and Triple Changers to steal it. With the Autobots unable to mount a counterattack thanks to Sixshot keeping them occupied, the Sol 1 is captured by the Decepticons and spirited away.\\n(thumbnail)\\nThis image demands we make a \"Chromedome set us up the bomb\" joke.\\n\\nA little later, Fortress traces Sol 1\\'s signal, and discovers that the Decepticons have moved it into the vicinity of the planet Zarak, a world hidden within a dark nebula. The Autobots track it down, but find that it is defended by the Decepticon Headmasters. As the two sides clash, the energy stored within the satellite is beamed down to planet Zarak, where, within a mysterious facility, a giant robotic body absorbs it. Warning the Autobots that they will destroy Sol 1 telepathically if they try to move it back to Earth, the Decepticons make a retreat, and the Autobot Headmasters realise that they have no other course of action but to destroy the satellite themselves. After doing so, they return to Athenia, where Spike assures them that they did the right thing, and that relations between the Autobots and Earth will remain undamaged.  '"
      ]
     },
     "execution_count": 42,
     "metadata": {},
     "output_type": "execute_result"
    }
   ],
   "source": [
    "original_text"
   ]
  },
  {
   "cell_type": "code",
   "execution_count": 43,
   "metadata": {},
   "outputs": [
    {
     "name": "stdout",
     "output_type": "stream",
     "text": [
      "['i', 'me', 'my', 'myself', 'we', 'our', 'ours', 'ourselves', 'you', \"you're\", \"you've\", \"you'll\", \"you'd\", 'your', 'yours', 'yourself', 'yourselves', 'he', 'him', 'his', 'himself', 'she', \"she's\", 'her', 'hers', 'herself', 'it', \"it's\", 'its', 'itself', 'they', 'them', 'their', 'theirs', 'themselves', 'what', 'which', 'who', 'whom', 'this', 'that', \"that'll\", 'these', 'those', 'am', 'is', 'are', 'was', 'were', 'be', 'been', 'being', 'have', 'has', 'had', 'having', 'do', 'does', 'did', 'doing', 'a', 'an', 'the', 'and', 'but', 'if', 'or', 'because', 'as', 'until', 'while', 'of', 'at', 'by', 'for', 'with', 'about', 'against', 'between', 'into', 'through', 'during', 'before', 'after', 'above', 'below', 'to', 'from', 'up', 'down', 'in', 'out', 'on', 'off', 'over', 'under', 'again', 'further', 'then', 'once', 'here', 'there', 'when', 'where', 'why', 'how', 'all', 'any', 'both', 'each', 'few', 'more', 'most', 'other', 'some', 'such', 'no', 'nor', 'not', 'only', 'own', 'same', 'so', 'than', 'too', 'very', 's', 't', 'can', 'will', 'just', 'don', \"don't\", 'should', \"should've\", 'now', 'd', 'll', 'm', 'o', 're', 've', 'y', 'ain', 'aren', \"aren't\", 'couldn', \"couldn't\", 'didn', \"didn't\", 'doesn', \"doesn't\", 'hadn', \"hadn't\", 'hasn', \"hasn't\", 'haven', \"haven't\", 'isn', \"isn't\", 'ma', 'mightn', \"mightn't\", 'mustn', \"mustn't\", 'needn', \"needn't\", 'shan', \"shan't\", 'shouldn', \"shouldn't\", 'wasn', \"wasn't\", 'weren', \"weren't\", 'won', \"won't\", 'wouldn', \"wouldn't\"]\n"
     ]
    }
   ],
   "source": [
    "stopwords = nltk.corpus.stopwords.words('english')\n",
    "string.punctuation\n",
    "original_text = re.sub(r'\\s+', ' ', original_text)\n",
    "\n",
    "print(stopwords)"
   ]
  },
  {
   "cell_type": "code",
   "execution_count": 44,
   "metadata": {},
   "outputs": [],
   "source": [
    "def preprocess(text):\n",
    "  formatted_text = text.lower()\n",
    "  tokens = []\n",
    "  for token in nltk.word_tokenize(formatted_text):\n",
    "    tokens.append(token)\n",
    "  tokens = [word for word in tokens if word not in stopwords and word not in string.punctuation]\n",
    "  formatted_text = ' '.join(element for element in tokens)\n",
    "\n",
    "  return formatted_text"
   ]
  },
  {
   "cell_type": "code",
   "execution_count": 45,
   "metadata": {},
   "outputs": [
    {
     "data": {
      "text/plain": [
       "\"`` athenia arcee wheelie daniel sadly reflect destruction cybertron departure rodimus prime chromedome arrives inform fortress 's party start join autobots fortress spike announce joint autobot-human construction solar-energy-gathering satellite sol 1. revelry begins hardhead sings karaoke music played twincast wheelie over-energizes energon wine arcee chromedome dance thumbnail `` new leader dark '' `` read title card '' meanwhile chaar soundblaster reports decepticons search turned trace galvatron vanished explosion destroyed cybertron suddenly room clouded darkness silhouetted figure seems galvatron appears cyclonus scourge rush greet soundblaster holds back proven voice pattern analysis galvatron—in truth shadowy decepticon scorponok tells galvatron still alive appointed leader place recovers unsure cyclonus scourge question soundblaster private whether trust scorponok tells choice thumbnail run 's crystalline entity time later earth headmasters trainbots daniel wheelie present launch sol 1 predictably decepticons spying whole affair ratbat soundblaster report back scorponok news impending launch tired constantly shown cyclonus scourge head earth recruit predacons attack launch site destroy sol 1 improve standing scorponok 's eyes attack anything subtle met resistance form raiden battles predaking headmasters take cyclonus scourge sol 1 successfully launched immediately begins absorbing energy scorponok desires arranges headmasters triple changers steal autobots unable mount counterattack thanks sixshot keeping occupied sol 1 captured decepticons spirited away thumbnail image demands make `` chromedome set us bomb '' joke little later fortress traces sol 1 's signal discovers decepticons moved vicinity planet zarak world hidden within dark nebula autobots track find defended decepticon headmasters two sides clash energy stored within satellite beamed planet zarak within mysterious facility giant robotic body absorbs warning autobots destroy sol 1 telepathically try move back earth decepticons make retreat autobot headmasters realise course action destroy satellite return athenia spike assures right thing relations autobots earth remain undamaged\""
      ]
     },
     "execution_count": 45,
     "metadata": {},
     "output_type": "execute_result"
    }
   ],
   "source": [
    "formatted_text = preprocess(original_text)\n",
    "formatted_text"
   ]
  },
  {
   "cell_type": "code",
   "execution_count": 46,
   "metadata": {},
   "outputs": [
    {
     "data": {
      "text/plain": [
       "FreqDist({'``': 7, 'sol': 7, '1': 6, 'autobots': 5, 'decepticons': 5, 'scorponok': 5, 'headmasters': 5, \"'s\": 4, 'soundblaster': 4, 'cyclonus': 4, ...})"
      ]
     },
     "execution_count": 46,
     "metadata": {},
     "output_type": "execute_result"
    }
   ],
   "source": [
    "word_frequency = nltk.FreqDist(nltk.word_tokenize(formatted_text))\n",
    "word_frequency"
   ]
  },
  {
   "cell_type": "code",
   "execution_count": 47,
   "metadata": {},
   "outputs": [
    {
     "data": {
      "text/plain": [
       "7"
      ]
     },
     "execution_count": 47,
     "metadata": {},
     "output_type": "execute_result"
    }
   ],
   "source": [
    "word_frequency['sol']"
   ]
  },
  {
   "cell_type": "code",
   "execution_count": 48,
   "metadata": {},
   "outputs": [
    {
     "data": {
      "text/plain": [
       "dict_keys(['``', 'athenia', 'arcee', 'wheelie', 'daniel', 'sadly', 'reflect', 'destruction', 'cybertron', 'departure', 'rodimus', 'prime', 'chromedome', 'arrives', 'inform', 'fortress', \"'s\", 'party', 'start', 'join', 'autobots', 'spike', 'announce', 'joint', 'autobot-human', 'construction', 'solar-energy-gathering', 'satellite', 'sol', '1.', 'revelry', 'begins', 'hardhead', 'sings', 'karaoke', 'music', 'played', 'twincast', 'over-energizes', 'energon', 'wine', 'dance', 'thumbnail', 'new', 'leader', 'dark', 'read', 'title', 'card', 'meanwhile', 'chaar', 'soundblaster', 'reports', 'decepticons', 'search', 'turned', 'trace', 'galvatron', 'vanished', 'explosion', 'destroyed', 'suddenly', 'room', 'clouded', 'darkness', 'silhouetted', 'figure', 'seems', 'appears', 'cyclonus', 'scourge', 'rush', 'greet', 'holds', 'back', 'proven', 'voice', 'pattern', 'analysis', 'galvatron—in', 'truth', 'shadowy', 'decepticon', 'scorponok', 'tells', 'still', 'alive', 'appointed', 'place', 'recovers', 'unsure', 'question', 'private', 'whether', 'trust', 'choice', 'run', 'crystalline', 'entity', 'time', 'later', 'earth', 'headmasters', 'trainbots', 'present', 'launch', '1', 'predictably', 'spying', 'whole', 'affair', 'ratbat', 'report', 'news', 'impending', 'tired', 'constantly', 'shown', 'head', 'recruit', 'predacons', 'attack', 'site', 'destroy', 'improve', 'standing', 'eyes', 'anything', 'subtle', 'met', 'resistance', 'form', 'raiden', 'battles', 'predaking', 'take', 'successfully', 'launched', 'immediately', 'absorbing', 'energy', 'desires', 'arranges', 'triple', 'changers', 'steal', 'unable', 'mount', 'counterattack', 'thanks', 'sixshot', 'keeping', 'occupied', 'captured', 'spirited', 'away', 'image', 'demands', 'make', 'set', 'us', 'bomb', 'joke', 'little', 'traces', 'signal', 'discovers', 'moved', 'vicinity', 'planet', 'zarak', 'world', 'hidden', 'within', 'nebula', 'track', 'find', 'defended', 'two', 'sides', 'clash', 'stored', 'beamed', 'mysterious', 'facility', 'giant', 'robotic', 'body', 'absorbs', 'warning', 'telepathically', 'try', 'move', 'retreat', 'autobot', 'realise', 'course', 'action', 'return', 'assures', 'right', 'thing', 'relations', 'remain', 'undamaged'])"
      ]
     },
     "execution_count": 48,
     "metadata": {},
     "output_type": "execute_result"
    }
   ],
   "source": [
    "word_frequency.keys()"
   ]
  },
  {
   "cell_type": "code",
   "execution_count": 49,
   "metadata": {},
   "outputs": [
    {
     "data": {
      "text/plain": [
       "7"
      ]
     },
     "execution_count": 49,
     "metadata": {},
     "output_type": "execute_result"
    }
   ],
   "source": [
    "highest_frequency = max(word_frequency.values())\n",
    "highest_frequency"
   ]
  },
  {
   "cell_type": "code",
   "execution_count": 50,
   "metadata": {},
   "outputs": [],
   "source": [
    "for word in word_frequency.keys():\n",
    "  #print(word)\n",
    "  word_frequency[word] = (word_frequency[word] / highest_frequency)"
   ]
  },
  {
   "cell_type": "code",
   "execution_count": 51,
   "metadata": {},
   "outputs": [
    {
     "data": {
      "text/plain": [
       "FreqDist({'``': 1.0, 'sol': 1.0, '1': 0.8571428571428571, 'autobots': 0.7142857142857143, 'decepticons': 0.7142857142857143, 'scorponok': 0.7142857142857143, 'headmasters': 0.7142857142857143, \"'s\": 0.5714285714285714, 'soundblaster': 0.5714285714285714, 'cyclonus': 0.5714285714285714, ...})"
      ]
     },
     "execution_count": 51,
     "metadata": {},
     "output_type": "execute_result"
    }
   ],
   "source": [
    "word_frequency"
   ]
  },
  {
   "cell_type": "code",
   "execution_count": 53,
   "metadata": {},
   "outputs": [
    {
     "data": {
      "text/plain": [
       "['\"On Athenia, Arcee, Wheelie, and Daniel sadly reflect on the destruction of Cybertron and the departure of Rodimus Prime.',\n",
       " \"By and by, Chromedome arrives to inform them that Fortress's party is about to start, and they join the other Autobots there just as Fortress and Spike announce the joint Autobot-human construction of the solar-energy-gathering satellite, Sol 1.\",\n",
       " 'With that, the revelry begins, as Hardhead sings karaoke to music played by Twincast, Wheelie over-energizes on energon wine, and Arcee and Chromedome dance.',\n",
       " '(thumbnail) \"So why is the new leader all dark?\"',\n",
       " '\"Did you not read the title card?\"',\n",
       " 'Meanwhile, on Chaar, Soundblaster reports to the Decepticons that a search has turned up no trace of Galvatron, who vanished during the explosion that destroyed Cybertron.',\n",
       " 'Suddenly, the room is clouded with darkness, and a silhouetted figure that seems to be Galvatron appears.',\n",
       " 'Cyclonus and Scourge rush to greet him, but Soundblaster holds them back, having proven with a voice pattern analysis that it is not Galvatron—in truth, the shadowy Decepticon is Scorponok, who tells them that Galvatron is still alive, and has appointed him as leader in his place while he recovers.',\n",
       " 'Unsure about this, Cyclonus and Scourge question Soundblaster in private over whether they can trust Scorponok, but he tells them they have no choice.',\n",
       " '(thumbnail) Run!',\n",
       " \"It's the Crystalline Entity!\",\n",
       " 'Some time later, on Earth, the Headmasters, Trainbots, Daniel and Wheelie are all present for the launch of Sol 1, but predictably, the Decepticons are spying on the whole affair, and Ratbat and Soundblaster report back to Scorponok with news of the impending launch.',\n",
       " \"Tired of constantly being shown up by him, Cyclonus and Scourge head to Earth and recruit the Predacons for an attack on the launch site, so that they can destroy the Sol 1 and improve their standing in Scorponok's eyes.\",\n",
       " 'Their attack is anything but subtle, and they are met with resistance in the form of Raiden, who battles Predaking while the Headmasters take on Cyclonus and Scourge.',\n",
       " 'Sol 1 is successfully launched and immediately begins absorbing energy, but this is just what Scorponok desires, as he arranges for the Headmasters and Triple Changers to steal it.',\n",
       " 'With the Autobots unable to mount a counterattack thanks to Sixshot keeping them occupied, the Sol 1 is captured by the Decepticons and spirited away.',\n",
       " '(thumbnail) This image demands we make a \"Chromedome set us up the bomb\" joke.',\n",
       " \"A little later, Fortress traces Sol 1's signal, and discovers that the Decepticons have moved it into the vicinity of the planet Zarak, a world hidden within a dark nebula.\",\n",
       " 'The Autobots track it down, but find that it is defended by the Decepticon Headmasters.',\n",
       " 'As the two sides clash, the energy stored within the satellite is beamed down to planet Zarak, where, within a mysterious facility, a giant robotic body absorbs it.',\n",
       " 'Warning the Autobots that they will destroy Sol 1 telepathically if they try to move it back to Earth, the Decepticons make a retreat, and the Autobot Headmasters realise that they have no other course of action but to destroy the satellite themselves.',\n",
       " 'After doing so, they return to Athenia, where Spike assures them that they did the right thing, and that relations between the Autobots and Earth will remain undamaged.']"
      ]
     },
     "execution_count": 53,
     "metadata": {},
     "output_type": "execute_result"
    }
   ],
   "source": [
    "sentence_list = nltk.sent_tokenize(original_text)\n",
    "sentence_list"
   ]
  },
  {
   "cell_type": "code",
   "execution_count": 54,
   "metadata": {},
   "outputs": [],
   "source": [
    "score_sentences = {}\n",
    "for sentence in sentence_list:\n",
    "  for word in nltk.word_tokenize(sentence.lower()):\n",
    "    if sentence not in score_sentences.keys():\n",
    "      score_sentences[sentence] = word_frequency[word]\n",
    "    else:\n",
    "      score_sentences[sentence] += word_frequency[word]"
   ]
  },
  {
   "cell_type": "code",
   "execution_count": 55,
   "metadata": {},
   "outputs": [
    {
     "data": {
      "text/plain": [
       "{'\"On Athenia, Arcee, Wheelie, and Daniel sadly reflect on the destruction of Cybertron and the departure of Rodimus Prime.': 3.428571428571428,\n",
       " \"By and by, Chromedome arrives to inform them that Fortress's party is about to start, and they join the other Autobots there just as Fortress and Spike announce the joint Autobot-human construction of the solar-energy-gathering satellite, Sol 1.\": 6.571428571428571,\n",
       " 'With that, the revelry begins, as Hardhead sings karaoke to music played by Twincast, Wheelie over-energizes on energon wine, and Arcee and Chromedome dance.': 2.999999999999999,\n",
       " '(thumbnail) \"So why is the new leader all dark?\"': 2.142857142857143,\n",
       " '\"Did you not read the title card?\"': 1.4285714285714284,\n",
       " 'Meanwhile, on Chaar, Soundblaster reports to the Decepticons that a search has turned up no trace of Galvatron, who vanished during the explosion that destroyed Cybertron.': 3.285714285714285,\n",
       " 'Suddenly, the room is clouded with darkness, and a silhouetted figure that seems to be Galvatron appears.': 1.5714285714285712,\n",
       " 'Cyclonus and Scourge rush to greet him, but Soundblaster holds them back, having proven with a voice pattern analysis that it is not Galvatron—in truth, the shadowy Decepticon is Scorponok, who tells them that Galvatron is still alive, and has appointed him as leader in his place while he recovers.': 6.2857142857142865,\n",
       " 'Unsure about this, Cyclonus and Scourge question Soundblaster in private over whether they can trust Scorponok, but he tells them they have no choice.': 3.571428571428571,\n",
       " '(thumbnail) Run!': 0.5714285714285714,\n",
       " \"It's the Crystalline Entity!\": 0.857142857142857,\n",
       " 'Some time later, on Earth, the Headmasters, Trainbots, Daniel and Wheelie are all present for the launch of Sol 1, but predictably, the Decepticons are spying on the whole affair, and Ratbat and Soundblaster report back to Scorponok with news of the impending launch.': 9.0,\n",
       " \"Tired of constantly being shown up by him, Cyclonus and Scourge head to Earth and recruit the Predacons for an attack on the launch site, so that they can destroy the Sol 1 and improve their standing in Scorponok's eyes.\": 7.428571428571428,\n",
       " 'Their attack is anything but subtle, and they are met with resistance in the form of Raiden, who battles Predaking while the Headmasters take on Cyclonus and Scourge.': 3.428571428571428,\n",
       " 'Sol 1 is successfully launched and immediately begins absorbing energy, but this is just what Scorponok desires, as he arranges for the Headmasters and Triple Changers to steal it.': 5.142857142857143,\n",
       " 'With the Autobots unable to mount a counterattack thanks to Sixshot keeping them occupied, the Sol 1 is captured by the Decepticons and spirited away.': 4.714285714285714,\n",
       " '(thumbnail) This image demands we make a \"Chromedome set us up the bomb\" joke.': 2.9999999999999996,\n",
       " \"A little later, Fortress traces Sol 1's signal, and discovers that the Decepticons have moved it into the vicinity of the planet Zarak, a world hidden within a dark nebula.\": 6.428571428571431,\n",
       " 'The Autobots track it down, but find that it is defended by the Decepticon Headmasters.': 2.142857142857143,\n",
       " 'As the two sides clash, the energy stored within the satellite is beamed down to planet Zarak, where, within a mysterious facility, a giant robotic body absorbs it.': 3.7142857142857135,\n",
       " 'Warning the Autobots that they will destroy Sol 1 telepathically if they try to move it back to Earth, the Decepticons make a retreat, and the Autobot Headmasters realise that they have no other course of action but to destroy the satellite themselves.': 7.857142857142859,\n",
       " 'After doing so, they return to Athenia, where Spike assures them that they did the right thing, and that relations between the Autobots and Earth will remain undamaged.': 2.8571428571428568}"
      ]
     },
     "execution_count": 55,
     "metadata": {},
     "output_type": "execute_result"
    }
   ],
   "source": [
    "score_sentences"
   ]
  },
  {
   "cell_type": "code",
   "execution_count": 56,
   "metadata": {},
   "outputs": [],
   "source": [
    "import heapq\n",
    "best_sentences = heapq.nlargest(3, score_sentences, key = score_sentences.get)\n",
    "\n"
   ]
  },
  {
   "cell_type": "code",
   "execution_count": 57,
   "metadata": {},
   "outputs": [
    {
     "data": {
      "text/plain": [
       "['Some time later, on Earth, the Headmasters, Trainbots, Daniel and Wheelie are all present for the launch of Sol 1, but predictably, the Decepticons are spying on the whole affair, and Ratbat and Soundblaster report back to Scorponok with news of the impending launch.',\n",
       " 'Warning the Autobots that they will destroy Sol 1 telepathically if they try to move it back to Earth, the Decepticons make a retreat, and the Autobot Headmasters realise that they have no other course of action but to destroy the satellite themselves.',\n",
       " \"Tired of constantly being shown up by him, Cyclonus and Scourge head to Earth and recruit the Predacons for an attack on the launch site, so that they can destroy the Sol 1 and improve their standing in Scorponok's eyes.\"]"
      ]
     },
     "execution_count": 57,
     "metadata": {},
     "output_type": "execute_result"
    }
   ],
   "source": [
    "best_sentences"
   ]
  },
  {
   "cell_type": "code",
   "execution_count": 58,
   "metadata": {},
   "outputs": [
    {
     "data": {
      "text/plain": [
       "\"Some time later, on Earth, the Headmasters, Trainbots, Daniel and Wheelie are all present for the launch of Sol 1, but predictably, the Decepticons are spying on the whole affair, and Ratbat and Soundblaster report back to Scorponok with news of the impending launch. Warning the Autobots that they will destroy Sol 1 telepathically if they try to move it back to Earth, the Decepticons make a retreat, and the Autobot Headmasters realise that they have no other course of action but to destroy the satellite themselves. Tired of constantly being shown up by him, Cyclonus and Scourge head to Earth and recruit the Predacons for an attack on the launch site, so that they can destroy the Sol 1 and improve their standing in Scorponok's eyes.\""
      ]
     },
     "execution_count": 58,
     "metadata": {},
     "output_type": "execute_result"
    }
   ],
   "source": [
    "summary = ' '.join(best_sentences)\n",
    "summary"
   ]
  },
  {
   "cell_type": "markdown",
   "metadata": {},
   "source": [
    "# visualize it with some html\n"
   ]
  },
  {
   "cell_type": "code",
   "execution_count": 60,
   "metadata": {},
   "outputs": [
    {
     "data": {
      "text/html": [
       "<h2>Summary</h2>"
      ],
      "text/plain": [
       "<IPython.core.display.HTML object>"
      ]
     },
     "metadata": {},
     "output_type": "display_data"
    },
    {
     "data": {
      "text/html": [
       " \"On Athenia, Arcee, Wheelie, and Daniel sadly reflect on the destruction of Cybertron and the departure of Rodimus Prime. By and by, Chromedome arrives to inform them that Fortress's party is about to start, and they join the other Autobots there just as Fortress and Spike announce the joint Autobot-human construction of the solar-energy-gathering satellite, Sol 1. With that, the revelry begins, as Hardhead sings karaoke to music played by Twincast, Wheelie over-energizes on energon wine, and Arcee and Chromedome dance. (thumbnail) \"So why is the new leader all dark?\" \"Did you not read the title card?\" Meanwhile, on Chaar, Soundblaster reports to the Decepticons that a search has turned up no trace of Galvatron, who vanished during the explosion that destroyed Cybertron. Suddenly, the room is clouded with darkness, and a silhouetted figure that seems to be Galvatron appears. Cyclonus and Scourge rush to greet him, but Soundblaster holds them back, having proven with a voice pattern analysis that it is not Galvatron—in truth, the shadowy Decepticon is Scorponok, who tells them that Galvatron is still alive, and has appointed him as leader in his place while he recovers. Unsure about this, Cyclonus and Scourge question Soundblaster in private over whether they can trust Scorponok, but he tells them they have no choice. (thumbnail) Run! It's the Crystalline Entity! <mark>Some time later, on Earth, the Headmasters, Trainbots, Daniel and Wheelie are all present for the launch of Sol 1, but predictably, the Decepticons are spying on the whole affair, and Ratbat and Soundblaster report back to Scorponok with news of the impending launch.</mark> <mark>Tired of constantly being shown up by him, Cyclonus and Scourge head to Earth and recruit the Predacons for an attack on the launch site, so that they can destroy the Sol 1 and improve their standing in Scorponok's eyes.</mark> Their attack is anything but subtle, and they are met with resistance in the form of Raiden, who battles Predaking while the Headmasters take on Cyclonus and Scourge. Sol 1 is successfully launched and immediately begins absorbing energy, but this is just what Scorponok desires, as he arranges for the Headmasters and Triple Changers to steal it. With the Autobots unable to mount a counterattack thanks to Sixshot keeping them occupied, the Sol 1 is captured by the Decepticons and spirited away. (thumbnail) This image demands we make a \"Chromedome set us up the bomb\" joke. A little later, Fortress traces Sol 1's signal, and discovers that the Decepticons have moved it into the vicinity of the planet Zarak, a world hidden within a dark nebula. The Autobots track it down, but find that it is defended by the Decepticon Headmasters. As the two sides clash, the energy stored within the satellite is beamed down to planet Zarak, where, within a mysterious facility, a giant robotic body absorbs it. <mark>Warning the Autobots that they will destroy Sol 1 telepathically if they try to move it back to Earth, the Decepticons make a retreat, and the Autobot Headmasters realise that they have no other course of action but to destroy the satellite themselves.</mark> After doing so, they return to Athenia, where Spike assures them that they did the right thing, and that relations between the Autobots and Earth will remain undamaged."
      ],
      "text/plain": [
       "<IPython.core.display.HTML object>"
      ]
     },
     "metadata": {},
     "output_type": "display_data"
    }
   ],
   "source": [
    "text = ''\n",
    "display(HTML(f'<h2>Summary</h2>'))\n",
    "for sentence in sentence_list:\n",
    "  #print(sentence)\n",
    "  #text += sentence\n",
    "  if sentence in best_sentences:\n",
    "    text += ' ' + sentence.replace(sentence, f\"<mark>{sentence}</mark>\")\n",
    "  else:\n",
    "    text += ' ' + sentence\n",
    "\n",
    "display(HTML(f\"\"\"{text}\"\"\"))"
   ]
  },
  {
   "cell_type": "code",
   "execution_count": null,
   "metadata": {},
   "outputs": [],
   "source": []
  }
 ],
 "metadata": {
  "kernelspec": {
   "display_name": "Python 3",
   "language": "python",
   "name": "python3"
  },
  "language_info": {
   "codemirror_mode": {
    "name": "ipython",
    "version": 3
   },
   "file_extension": ".py",
   "mimetype": "text/x-python",
   "name": "python",
   "nbconvert_exporter": "python",
   "pygments_lexer": "ipython3",
   "version": "3.8.0"
  }
 },
 "nbformat": 4,
 "nbformat_minor": 4
}
